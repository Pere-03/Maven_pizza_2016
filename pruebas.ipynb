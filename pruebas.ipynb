{
 "cells": [
  {
   "cell_type": "code",
   "execution_count": 22,
   "metadata": {},
   "outputs": [],
   "source": [
    "import pandas as pd\n",
    "\n",
    "FICHEROS_CSV = [\n",
    "            'data_dictionary.csv', 'order_details.csv',\n",
    "            'orders.csv', 'pizza_types.csv', 'pizzas.csv']"
   ]
  },
  {
   "cell_type": "code",
   "execution_count": 23,
   "metadata": {},
   "outputs": [],
   "source": [
    "i = 1\n",
    "df = pd.read_csv(FICHEROS_CSV[i], sep=';', encoding='cp1252')"
   ]
  },
  {
   "cell_type": "code",
   "execution_count": 24,
   "metadata": {},
   "outputs": [],
   "source": [
    "def cambio_nan(nan):\n",
    "        '''\n",
    "        Como hay pedido, como poco tiene que haber 1 pizza\n",
    "        '''\n",
    "        return nan if isinstance(nan, int) else 1\n"
   ]
  },
  {
   "cell_type": "code",
   "execution_count": 25,
   "metadata": {},
   "outputs": [
    {
     "data": {
      "text/html": [
       "<div>\n",
       "<style scoped>\n",
       "    .dataframe tbody tr th:only-of-type {\n",
       "        vertical-align: middle;\n",
       "    }\n",
       "\n",
       "    .dataframe tbody tr th {\n",
       "        vertical-align: top;\n",
       "    }\n",
       "\n",
       "    .dataframe thead th {\n",
       "        text-align: right;\n",
       "    }\n",
       "</style>\n",
       "<table border=\"1\" class=\"dataframe\">\n",
       "  <thead>\n",
       "    <tr style=\"text-align: right;\">\n",
       "      <th></th>\n",
       "      <th>order_details_id</th>\n",
       "      <th>order_id</th>\n",
       "      <th>pizza_id</th>\n",
       "      <th>quantity</th>\n",
       "    </tr>\n",
       "  </thead>\n",
       "  <tbody>\n",
       "    <tr>\n",
       "      <th>0</th>\n",
       "      <td>21671</td>\n",
       "      <td>9513</td>\n",
       "      <td>cali-ckn-m</td>\n",
       "      <td>1</td>\n",
       "    </tr>\n",
       "    <tr>\n",
       "      <th>1</th>\n",
       "      <td>17259</td>\n",
       "      <td>7591</td>\n",
       "      <td>green garden s</td>\n",
       "      <td>1</td>\n",
       "    </tr>\n",
       "    <tr>\n",
       "      <th>2</th>\n",
       "      <td>19844</td>\n",
       "      <td>8724</td>\n",
       "      <td>the-greek-xl</td>\n",
       "      <td>1</td>\n",
       "    </tr>\n",
       "    <tr>\n",
       "      <th>3</th>\n",
       "      <td>24185</td>\n",
       "      <td>10625</td>\n",
       "      <td>NaN</td>\n",
       "      <td>1</td>\n",
       "    </tr>\n",
       "    <tr>\n",
       "      <th>4</th>\n",
       "      <td>13779</td>\n",
       "      <td>6037</td>\n",
       "      <td>thai_ckn_m</td>\n",
       "      <td>1</td>\n",
       "    </tr>\n",
       "    <tr>\n",
       "      <th>...</th>\n",
       "      <td>...</td>\n",
       "      <td>...</td>\n",
       "      <td>...</td>\n",
       "      <td>...</td>\n",
       "    </tr>\n",
       "    <tr>\n",
       "      <th>48615</th>\n",
       "      <td>31782</td>\n",
       "      <td>14027</td>\n",
       "      <td>classic dlx s</td>\n",
       "      <td>1</td>\n",
       "    </tr>\n",
       "    <tr>\n",
       "      <th>48616</th>\n",
       "      <td>24419</td>\n",
       "      <td>10731</td>\n",
       "      <td>the_greek_m</td>\n",
       "      <td>1</td>\n",
       "    </tr>\n",
       "    <tr>\n",
       "      <th>48617</th>\n",
       "      <td>31389</td>\n",
       "      <td>13858</td>\n",
       "      <td>classic_dlx_l</td>\n",
       "      <td>1</td>\n",
       "    </tr>\n",
       "    <tr>\n",
       "      <th>48618</th>\n",
       "      <td>32757</td>\n",
       "      <td>14481</td>\n",
       "      <td>NaN</td>\n",
       "      <td>1</td>\n",
       "    </tr>\n",
       "    <tr>\n",
       "      <th>48619</th>\n",
       "      <td>32405</td>\n",
       "      <td>14321</td>\n",
       "      <td>cali-ckn-l</td>\n",
       "      <td>1</td>\n",
       "    </tr>\n",
       "  </tbody>\n",
       "</table>\n",
       "<p>48620 rows × 4 columns</p>\n",
       "</div>"
      ],
      "text/plain": [
       "       order_details_id  order_id        pizza_id  quantity\n",
       "0                 21671      9513      cali-ckn-m         1\n",
       "1                 17259      7591  green garden s         1\n",
       "2                 19844      8724    the-greek-xl         1\n",
       "3                 24185     10625             NaN         1\n",
       "4                 13779      6037      thai_ckn_m         1\n",
       "...                 ...       ...             ...       ...\n",
       "48615             31782     14027   classic dlx s         1\n",
       "48616             24419     10731     the_greek_m         1\n",
       "48617             31389     13858   classic_dlx_l         1\n",
       "48618             32757     14481             NaN         1\n",
       "48619             32405     14321      cali-ckn-l         1\n",
       "\n",
       "[48620 rows x 4 columns]"
      ]
     },
     "execution_count": 25,
     "metadata": {},
     "output_type": "execute_result"
    }
   ],
   "source": [
    "df['quantity'] = df['quantity'].apply(cambio_nan)\n",
    "df"
   ]
  },
  {
   "cell_type": "code",
   "execution_count": 26,
   "metadata": {},
   "outputs": [],
   "source": [
    "df = df.fillna(method='ffill')"
   ]
  },
  {
   "cell_type": "code",
   "execution_count": 27,
   "metadata": {},
   "outputs": [],
   "source": [
    "from re import sub\n",
    "\n",
    "\n",
    "def revisar_pizzas(pizza):\n",
    "    '''\n",
    "    Comprueba los fallos más comunes a la hora de\n",
    "    escribir un pedido\n",
    "    '''\n",
    "    separadores = ['-', ' ']\n",
    "    for separador in separadores:\n",
    "        if separador in pizza:\n",
    "            pizza = sub(separador, '_', pizza)\n",
    "    \n",
    "    if '@' in pizza:\n",
    "        pizza = sub('@', 'a', pizza)\n",
    "\n",
    "    if '0' in pizza:\n",
    "        pizza = sub('0', 'o', pizza)\n",
    "\n",
    "    return pizza"
   ]
  },
  {
   "cell_type": "code",
   "execution_count": 28,
   "metadata": {},
   "outputs": [],
   "source": [
    "df['pizza_id'] = df['pizza_id'].apply(revisar_pizzas)"
   ]
  },
  {
   "cell_type": "code",
   "execution_count": 29,
   "metadata": {},
   "outputs": [
    {
     "data": {
      "text/plain": [
       "order_details_id            13400\n",
       "order_id                     5879\n",
       "pizza_id            ital_cpcllo_l\n",
       "quantity                        1\n",
       "Name: 33, dtype: object"
      ]
     },
     "execution_count": 29,
     "metadata": {},
     "output_type": "execute_result"
    }
   ],
   "source": [
    "df.iloc[33]"
   ]
  }
 ],
 "metadata": {
  "kernelspec": {
   "display_name": "Python 3.9.13 64-bit (microsoft store)",
   "language": "python",
   "name": "python3"
  },
  "language_info": {
   "codemirror_mode": {
    "name": "ipython",
    "version": 3
   },
   "file_extension": ".py",
   "mimetype": "text/x-python",
   "name": "python",
   "nbconvert_exporter": "python",
   "pygments_lexer": "ipython3",
   "version": "3.9.13"
  },
  "orig_nbformat": 4,
  "vscode": {
   "interpreter": {
    "hash": "4917b8339b40575c3b201d5fbf10de1f9488127cc846ffa4aa8ba3666a97ad92"
   }
  }
 },
 "nbformat": 4,
 "nbformat_minor": 2
}
